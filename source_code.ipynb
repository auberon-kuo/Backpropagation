{
 "cells": [
  {
   "cell_type": "code",
   "execution_count": 1,
   "metadata": {},
   "outputs": [],
   "source": [
    "# coding=utf-8\n",
    "import numpy as np\n",
    "import matplotlib.pyplot as plt"
   ]
  },
  {
   "cell_type": "code",
   "execution_count": 8,
   "metadata": {},
   "outputs": [],
   "source": [
    "#生成線性資料\n",
    "def generate_linear(n=100):\n",
    "    pts = np.random.uniform(0, 1, (n, 2)) #從[0, 1]取出\n",
    "    inputs = []\n",
    "    labels = []\n",
    "    for pt in pts:\n",
    "        inputs.append([pt[0], pt[1]])\n",
    "        distance = (pt[0]-pt[1])/1.414\n",
    "        if pt[0] > pt[1]:\n",
    "            labels.append(0)\n",
    "        else:\n",
    "            labels.append(1)\n",
    "    return np.array(inputs), np.array(labels).reshape(n, 1)\n",
    "\n",
    "#生成XOR資料\n",
    "def generate_XOR_easy():\n",
    "    inputs = []\n",
    "    labels = []\n",
    "    \n",
    "    for i in range(11):\n",
    "        inputs.append([0.1*i, 0.1*i])\n",
    "        labels.append(0)\n",
    "        \n",
    "        if 0.1*i == 0.5:\n",
    "            continue\n",
    "        \n",
    "        inputs.append([0.1*i, 1-0.1*i])\n",
    "        labels.append(1)\n",
    "    \n",
    "    return np.array(inputs), np.array(labels).reshape(21, 1)\n",
    "\n",
    "#把結果列印出來\n",
    "def show_result(x, y, pred_y):\n",
    "    plt.subplot(1,2,1)\n",
    "    plt.title('Ground truth', fontsize=18)\n",
    "    for i in range(x.shape[0]):\n",
    "        if y[i] == 0:\n",
    "            plt.plot(x[i][0], x[i][1], 'ro')\n",
    "        else:\n",
    "            plt.plot(x[i][0], x[i][1], 'bo')\n",
    "    plt.subplot(1,2,2)\n",
    "    plt.title('Predict result', fontsize=18)\n",
    "    for i in range(x.shape[0]):\n",
    "        if round(float(pred_y[i])) == 0:\n",
    "            plt.plot(x[i][0], x[i][1], 'ro')\n",
    "        else:\n",
    "            plt.plot(x[i][0], x[i][1], 'bo')\n",
    "    plt.show()\n",
    "\n",
    "#準確率計算    \n",
    "def accuracy(x, y, n):\n",
    "    total = 0\n",
    "    for i in range(len(x)):\n",
    "        bias = x[i] - y[i]\n",
    "        total += abs(bias)\n",
    "    return 1 - float(total / n)"
   ]
  },
  {
   "cell_type": "code",
   "execution_count": 3,
   "metadata": {},
   "outputs": [],
   "source": [
    "#建立NN framework\n",
    "class Neural_Network(object):\n",
    "    def __init__(self):\n",
    "        #各layer大小設定\n",
    "        self.inputSize = 2\n",
    "        self.outputSize = 1\n",
    "        self.hiddenSize = 3\n",
    "\n",
    "        #初始權重(這邊這樣設計是為了讓其遵守行列式乘法規則左邊矩陣n行=右邊矩陣m列)\n",
    "        self.W1 = np.random.randn(self.inputSize, self.hiddenSize) \n",
    "        self.W2 = np.random.randn(self.hiddenSize, self.outputSize) \n",
    "\n",
    "    def forward(self, x):\n",
    "\n",
    "        self.z1 = np.dot(x, self.W1) \n",
    "        self.z2 = self.sigmoid(self.z1) \n",
    "        self.z = np.dot(self.z2, self.W2) \n",
    "        output = self.sigmoid(self.z) \n",
    "        return output \n",
    "\n",
    "    def sigmoid(self, x):\n",
    "        # 激勵函數 \n",
    "        return 1/(1+np.exp(-x))\n",
    "\n",
    "    def sigmoidPrime(self, x):\n",
    "        # 激勵函數微分\n",
    "        return x * (1 - x)\n",
    "\n",
    "    def backward(self, x, y, output):\n",
    "\n",
    "        self.error_output = y - output \n",
    "        self.delta_output = self.error_output*self.sigmoidPrime(output) \n",
    "\n",
    "        self.z2_error = self.delta_output.dot(self.W2.T) \n",
    "        self.z2_delta = self.z2_error*self.sigmoidPrime(self.z2) \n",
    "\n",
    "        self.W1 += x.T.dot(self.z2_delta) \n",
    "        self.W2 += self.z2.T.dot(self.delta_output) \n",
    "\n",
    "    def train (self, x, y):\n",
    "        output = self.forward(x)\n",
    "        self.backward(x, y, output)"
   ]
  },
  {
   "cell_type": "code",
   "execution_count": 4,
   "metadata": {},
   "outputs": [],
   "source": [
    "NN1 = Neural_Network()\n",
    "NN2 = Neural_Network()\n",
    "\n",
    "x1, y1 = generate_linear(n=100)\n",
    "x2, y2 = generate_XOR_easy()"
   ]
  },
  {
   "cell_type": "code",
   "execution_count": 5,
   "metadata": {},
   "outputs": [
    {
     "name": "stdout",
     "output_type": "stream",
     "text": [
      "epoch 0 loss : 0.3690858439820264\n",
      "epoch 1000 loss : 0.0021129359052054707\n",
      "epoch 2000 loss : 0.00036621182742172637\n",
      "epoch 3000 loss : 0.00021280489237565428\n",
      "epoch 4000 loss : 0.00014481697199198774\n",
      "epoch 5000 loss : 0.00010764304033591748\n",
      "epoch 6000 loss : 8.462966829347898e-05\n",
      "epoch 7000 loss : 6.916126698532507e-05\n",
      "epoch 8000 loss : 5.8138038341541955e-05\n",
      "epoch 9000 loss : 4.993179722231008e-05\n",
      "epoch 10000 loss : 4.361232156988825e-05\n",
      "epoch 11000 loss : 3.861269192122738e-05\n",
      "epoch 12000 loss : 3.4569241604144305e-05\n",
      "epoch 13000 loss : 3.1238767101205536e-05\n",
      "epoch 14000 loss : 2.8452912062151025e-05\n",
      "epoch 15000 loss : 2.6091692552248288e-05\n",
      "epoch 16000 loss : 2.4067447229722418e-05\n",
      "epoch 17000 loss : 2.2314739937176225e-05\n",
      "epoch 18000 loss : 2.0783800944983972e-05\n",
      "epoch 19000 loss : 1.943614657181808e-05\n",
      "epoch 20000 loss : 1.8241581293294712e-05\n"
     ]
    }
   ],
   "source": [
    "# linear train NN1 \n",
    "for i in range(20001): # trains the NN 20,001 times\n",
    "    if i % 1000 == 0:\n",
    "        print (\"epoch \"+str(i)+\" loss : \" + str(np.mean(np.square(y1 - NN1.forward(x1))))) # mean sum squared loss\n",
    "    NN1.train(x1, y1)"
   ]
  },
  {
   "cell_type": "code",
   "execution_count": 6,
   "metadata": {},
   "outputs": [
    {
     "name": "stdout",
     "output_type": "stream",
     "text": [
      "epoch 0 loss : 0.25679093596344604\n",
      "epoch 1000 loss : 0.037747743106751955\n",
      "epoch 2000 loss : 0.001697833530658214\n",
      "epoch 3000 loss : 0.0007144207483920454\n",
      "epoch 4000 loss : 0.00043748484536751175\n",
      "epoch 5000 loss : 0.0003113396804195804\n",
      "epoch 6000 loss : 0.0002401456523033604\n",
      "epoch 7000 loss : 0.00019473550757929614\n",
      "epoch 8000 loss : 0.00016338101353688845\n",
      "epoch 9000 loss : 0.000140493785435948\n",
      "epoch 10000 loss : 0.00012308545638067969\n",
      "epoch 11000 loss : 0.00010941824221093523\n",
      "epoch 12000 loss : 9.841497341230825e-05\n",
      "epoch 13000 loss : 8.937352317864892e-05\n",
      "epoch 14000 loss : 8.18172266188632e-05\n",
      "epoch 15000 loss : 7.541142661619711e-05\n",
      "epoch 16000 loss : 6.991444219049236e-05\n",
      "epoch 17000 loss : 6.514748995589272e-05\n",
      "epoch 18000 loss : 6.097554411406572e-05\n",
      "epoch 19000 loss : 5.7294767633943556e-05\n",
      "epoch 20000 loss : 5.402402979491537e-05\n"
     ]
    }
   ],
   "source": [
    "# 先用XOR train NN2 \n",
    "for i in range(20001): # trains the NN 20,001 times\n",
    "    if i % 1000 == 0:\n",
    "        print (\"epoch \"+str(i)+\" loss : \" + str(np.mean(np.square(y2 - NN2.forward(x2))))) # mean sum squared loss\n",
    "    NN2.train(x2, y2)"
   ]
  },
  {
   "cell_type": "code",
   "execution_count": 7,
   "metadata": {},
   "outputs": [
    {
     "data": {
      "image/png": "[encoded data removed]",
      "text/plain": [
       "<Figure size 432x288 with 2 Axes>"
      ]
     },
     "metadata": {},
     "output_type": "display_data"
    }
   ],
   "source": [
    "#把線性資料的訓練結果show出來\n",
    "show_result(x1,y1,NN1.forward(x1))"
   ]
  },
  {
   "cell_type": "code",
   "execution_count": 9,
   "metadata": {},
   "outputs": [
    {
     "data": {
      "image/png": "[encoded data removed]",
      "text/plain": [
       "<Figure size 432x288 with 2 Axes>"
      ]
     },
     "metadata": {},
     "output_type": "display_data"
    }
   ],
   "source": [
    "#把XOR資料的訓練結果show出來\n",
    "show_result(x2,y2,NN2.forward(x2))"
   ]
  },
  {
   "cell_type": "code",
   "execution_count": 10,
   "metadata": {},
   "outputs": [
    {
     "name": "stdout",
     "output_type": "stream",
     "text": [
      "The accuracy rate of linear dataset is: 0.9991755815805862\n"
     ]
    }
   ],
   "source": [
    "print (\"The accuracy rate of linear dataset is: \"+ str(accuracy(NN1.forward(x1), y1, 100)))"
   ]
  },
  {
   "cell_type": "code",
   "execution_count": 11,
   "metadata": {},
   "outputs": [
    {
     "name": "stdout",
     "output_type": "stream",
     "text": [
      "The accuracy rate of XOR dataset is: 0.9989717130189352\n"
     ]
    }
   ],
   "source": [
    "print (\"The accuracy rate of XOR dataset is: \"+ str(accuracy(NN2.forward(x2), y2, 100)))"
   ]
  },
  {
   "cell_type": "code",
   "execution_count": null,
   "metadata": {},
   "outputs": [],
   "source": []
  }
 ],
 "metadata": {
  "kernelspec": {
   "display_name": "Python 3",
   "language": "python",
   "name": "python3"
  },
  "language_info": {
   "codemirror_mode": {
    "name": "ipython",
    "version": 3
   },
   "file_extension": ".py",
   "mimetype": "text/x-python",
   "name": "python",
   "nbconvert_exporter": "python",
   "pygments_lexer": "ipython3",
   "version": "3.6.5"
  }
 },
 "nbformat": 4,
 "nbformat_minor": 2
}
